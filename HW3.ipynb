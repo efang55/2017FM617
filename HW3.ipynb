{
 "cells": [
  {
   "cell_type": "code",
   "execution_count": 1,
   "metadata": {
    "collapsed": true
   },
   "outputs": [],
   "source": [
    "import requests\n",
    "from bs4 import BeautifulSoup"
   ]
  },
  {
   "cell_type": "code",
   "execution_count": 2,
   "metadata": {
    "collapsed": true
   },
   "outputs": [],
   "source": [
    "from util import get_news_article"
   ]
  },
  {
   "cell_type": "code",
   "execution_count": 3,
   "metadata": {
    "collapsed": true
   },
   "outputs": [],
   "source": [
    "url = \"https://news.cnyes.com/news/id/3958018?exp=a\""
   ]
  },
  {
   "cell_type": "code",
   "execution_count": 4,
   "metadata": {},
   "outputs": [
    {
     "name": "stdout",
     "output_type": "stream",
     "text": [
      "華邦電 (2344-TW) 今 (7) 日公布 10 月含新唐等子公司合併營收 44.91 億元，月增 4.07%，年增 21.06%，續創 2000 年 10 月來 17 年新高；累計前 10 月合併營收 388.77 億元，年增 10.99%。\n",
      "華邦電第 3 季獲利爆發，毛利率 36.88%，單季稅後純益 20.84 億元，季增 1.1 倍，超過上半年獲利，創 17 年單季新高，每股純益 0.58 元，累計前 3 季營收 343.86 億元，毛利率 32.95%，稅後純益 37.61 億元，超過去年全年稅後純益 28.97 億元，每股純益 1.05 元。\n",
      "華邦電董事會通過 15.36 億元資本預算案，將做為購置研發設備及興建辦公大樓之用，預計明年第 2 季起陸續投資；另外，因應擴產資金需求，將辦理 4 億股現金增資，為 1999 年來首度辦理現增，現增每股 22 元，預計可募資 88 億元。\n",
      "華邦電總經理詹東義先前曾表示，下半年 DRAM 及 NOR Flash 需求穩定健康，第 4 季 NOR 也將持續漲價。華邦電記憶體晶片均已打入熱門產品應用，公司營運將季季高，今年將連續五年獲利，也是華邦電創立 30 年來，第二次連五年賺錢，看好明年維持成長態勢，寫下公司創立來最佳的連六年獲利佳績。\n",
      "\n",
      "華邦電日 K 線圖\n",
      "\n",
      " \n",
      "\n"
     ]
    }
   ],
   "source": [
    "news_text = get_news_article(url)\n",
    "print(news_text)"
   ]
  },
  {
   "cell_type": "code",
   "execution_count": 5,
   "metadata": {},
   "outputs": [
    {
     "name": "stderr",
     "output_type": "stream",
     "text": [
      "C:\\Users\\fang\\Anaconda3\\lib\\site-packages\\bs4\\__init__.py:181: UserWarning: No parser was explicitly specified, so I'm using the best available HTML parser for this system (\"lxml\"). This usually isn't a problem, but if you run this code on another system, or in a different virtual environment, it may use a different parser and behave differently.\n",
      "\n",
      "The code that caused this warning is on line 193 of the file C:\\Users\\fang\\Anaconda3\\lib\\runpy.py. To get rid of this warning, change code that looks like this:\n",
      "\n",
      " BeautifulSoup(YOUR_MARKUP})\n",
      "\n",
      "to this:\n",
      "\n",
      " BeautifulSoup(YOUR_MARKUP, \"lxml\")\n",
      "\n",
      "  markup_type=markup_type))\n"
     ]
    }
   ],
   "source": [
    "r = requests.get(url)\n",
    "r.encoding = \"UTF-8\"\n",
    "soup = BeautifulSoup(r.text)"
   ]
  },
  {
   "cell_type": "code",
   "execution_count": 6,
   "metadata": {},
   "outputs": [
    {
     "data": {
      "text/plain": [
       "'華邦電 (2344-TW) 今 (7) 日公布 10 月含新唐等子公司合併營收 44.91 億元，月增 4.07%，年增 21.06%，續創 2000 年 10 月來 17 年新高；累計前 10 月合併營收 388.77 億元，年增 10.99%。'"
      ]
     },
     "execution_count": 6,
     "metadata": {},
     "output_type": "execute_result"
    }
   ],
   "source": [
    "news_summary = soup.find(\"div\",{\"itemprop\":\"articleBody\"}).find_all(\"p\")[0].text\n",
    "news_summary"
   ]
  },
  {
   "cell_type": "code",
   "execution_count": 7,
   "metadata": {
    "collapsed": true
   },
   "outputs": [],
   "source": [
    "import jieba\n",
    "import jieba.analyse"
   ]
  },
  {
   "cell_type": "code",
   "execution_count": 8,
   "metadata": {
    "collapsed": true
   },
   "outputs": [],
   "source": [
    "jieba.set_dictionary('dict.txt.big')"
   ]
  },
  {
   "cell_type": "code",
   "execution_count": 9,
   "metadata": {},
   "outputs": [
    {
     "name": "stderr",
     "output_type": "stream",
     "text": [
      "Building prefix dict from C:\\Users\\fang\\Documents\\GitHub\\2017FM617\\dict.txt.big ...\n",
      "Loading model from cache C:\\Users\\fang\\AppData\\Local\\Temp\\jieba.u5c129dc45fcdb33cfdcdf1d6257fe58e.cache\n",
      "Loading model cost 1.379 seconds.\n",
      "Prefix dict has been built succesfully.\n"
     ]
    }
   ],
   "source": [
    "keywords=jieba.analyse.extract_tags(news_text,topK=20)"
   ]
  },
  {
   "cell_type": "code",
   "execution_count": 10,
   "metadata": {},
   "outputs": [
    {
     "name": "stdout",
     "output_type": "stream",
     "text": [
      "億元/ 華邦電/ 純益/ 獲利/ 10/ 稅後/ 合併/ 營收/ 年增/ 17/ 累計/ 單季/ 超過/ 預計/ 辦理/ 年來/ 現增/ NOR/ 創立/ 每股\n"
     ]
    }
   ],
   "source": [
    "print (\"/ \".join(keywords))"
   ]
  },
  {
   "cell_type": "code",
   "execution_count": 11,
   "metadata": {},
   "outputs": [
    {
     "data": {
      "text/plain": [
       "\"[('億元', 0.5940257144298137), ('華邦電', 0.4455192858223602), ('純益', 0.37126607151863356), ('獲利', 0.29701285721490683), ('10', 0.2227596429111801), ('稅後', 0.2227596429111801), ('合併', 0.14850642860745342), ('營收', 0.14850642860745342), ('年增', 0.14850642860745342), ('17', 0.14850642860745342), ('累計', 0.14850642860745342), ('單季', 0.14850642860745342), ('超過', 0.14850642860745342), ('預計', 0.14850642860745342), ('辦理', 0.14850642860745342), ('年來', 0.14850642860745342), ('現增', 0.14850642860745342), ('NOR', 0.14850642860745342), ('創立', 0.14850642860745342), ('每股', 0.11927803157850933)]\""
      ]
     },
     "execution_count": 11,
     "metadata": {},
     "output_type": "execute_result"
    }
   ],
   "source": [
    "repr(jieba.analyse.extract_tags(news_text, topK=20, withWeight=True))"
   ]
  },
  {
   "cell_type": "code",
   "execution_count": 12,
   "metadata": {},
   "outputs": [
    {
     "data": {
      "text/plain": [
       "\"[('營收', 1.0), ('晶片', 1.0), ('季高', 1.0), ('子公司', 0.9934596342090851), ('打入', 0.9934596342090851), ('公司', 0.9934596342090851)]\""
      ]
     },
     "execution_count": 12,
     "metadata": {},
     "output_type": "execute_result"
    }
   ],
   "source": [
    "repr(jieba.analyse.textrank(news_text, topK=20, withWeight=True))"
   ]
  },
  {
   "cell_type": "code",
   "execution_count": 13,
   "metadata": {
    "collapsed": true
   },
   "outputs": [],
   "source": [
    "def index_of_keyword(sentences, keyword):\n",
    "    for i, s in enumerate(sentences):\n",
    "        if keyword in s:\n",
    "              return i\n",
    "    return -1"
   ]
  },
  {
   "cell_type": "code",
   "execution_count": 14,
   "metadata": {},
   "outputs": [
    {
     "data": {
      "text/plain": [
       "6"
      ]
     },
     "execution_count": 14,
     "metadata": {},
     "output_type": "execute_result"
    }
   ],
   "source": [
    "sentences = news_text.replace(\"\\n\",\"\").split(u\"。\")\n",
    "len(sentences)"
   ]
  },
  {
   "cell_type": "code",
   "execution_count": 15,
   "metadata": {},
   "outputs": [
    {
     "name": "stdout",
     "output_type": "stream",
     "text": [
      "華邦電 (2344-TW) 今 (7) 日公布 10 月含新唐等子公司合併營收 44.91 億元，月增 4.07%，年增 21.06%，續創 2000 年 10 月來 17 年新高；累計前 10 月合併營收 388.77 億元，年增 10.99%。\n",
      "華邦電第 3 季獲利爆發，毛利率 36.88%，單季稅後純益 20.84 億元，季增 1.1 倍，超過上半年獲利，創 17 年單季新高，每股純益 0.58 元，累計前 3 季營收 343.86 億元，毛利率 32.95%，稅後純益 37.61 億元，超過去年全年稅後純益 28.97 億元，每股純益 1.05 元。\n",
      "華邦電董事會通過 15.36 億元資本預算案，將做為購置研發設備及興建辦公大樓之用，預計明年第 2 季起陸續投資；另外，因應擴產資金需求，將辦理 4 億股現金增資，為 1999 年來首度辦理現增，現增每股 22 元，預計可募資 88 億元。\n",
      "華邦電總經理詹東義先前曾表示，下半年 DRAM 及 NOR Flash 需求穩定健康，第 4 季 NOR 也將持續漲價。\n",
      "華邦電記憶體晶片均已打入熱門產品應用，公司營運將季季高，今年將連續五年獲利，也是華邦電創立 30 年來，第二次連五年賺錢，看好明年維持成長態勢，寫下公司創立來最佳的連六年獲利佳績。\n",
      "華邦電日 K 線圖 。\n"
     ]
    }
   ],
   "source": [
    "for sentence in sentences:\n",
    "    print (sentence + u\"。\")"
   ]
  },
  {
   "cell_type": "code",
   "execution_count": 16,
   "metadata": {},
   "outputs": [
    {
     "name": "stdout",
     "output_type": "stream",
     "text": [
      "華邦電 (2344-TW) 今 (7) 日公布 10 月含新唐等子公司合併營收 44.91 億元，月增 4.07%，年增 21.06%，續創 2000 年 10 月來 17 年新高；累計前 10 月合併營收 388.77 億元，年增 10.99%。\n"
     ]
    }
   ],
   "source": [
    "index_of_keyword(sentences,u\"華邦電\")\n",
    "print (sentences[index_of_keyword(sentences,u\"華邦電\")]+u\"。\")"
   ]
  },
  {
   "cell_type": "code",
   "execution_count": 17,
   "metadata": {},
   "outputs": [
    {
     "data": {
      "text/plain": [
       "123"
      ]
     },
     "execution_count": 17,
     "metadata": {},
     "output_type": "execute_result"
    }
   ],
   "source": [
    "len(sentences[0])"
   ]
  },
  {
   "cell_type": "code",
   "execution_count": 18,
   "metadata": {
    "collapsed": true
   },
   "outputs": [],
   "source": [
    "s_index = []\n",
    "for keyword in keywords[:3]:\n",
    "    s_index.append(index_of_keyword(sentences,keyword))\n",
    "\n",
    "s_set = set(s_index)\n",
    "s_index = list(s_set)"
   ]
  },
  {
   "cell_type": "code",
   "execution_count": 19,
   "metadata": {
    "collapsed": true
   },
   "outputs": [],
   "source": [
    "summary = \"\"\n",
    "for i in s_index:\n",
    "    summary += sentences[i]+u\"。\""
   ]
  },
  {
   "cell_type": "code",
   "execution_count": 20,
   "metadata": {},
   "outputs": [
    {
     "name": "stdout",
     "output_type": "stream",
     "text": [
      "華邦電 (2344-TW) 今 (7) 日公布 10 月含新唐等子公司合併營收 44.91 億元，月增 4.07%，年增 21.06%，續創 2000 年 10 月來 17 年新高；累計前 10 月合併營收 388.77 億元，年增 10.99%。華邦電第 3 季獲利爆發，毛利率 36.88%，單季稅後純益 20.84 億元，季增 1.1 倍，超過上半年獲利，創 17 年單季新高，每股純益 0.58 元，累計前 3 季營收 343.86 億元，毛利率 32.95%，稅後純益 37.61 億元，超過去年全年稅後純益 28.97 億元，每股純益 1.05 元。\n"
     ]
    }
   ],
   "source": [
    "print (summary)"
   ]
  },
  {
   "cell_type": "code",
   "execution_count": 21,
   "metadata": {},
   "outputs": [
    {
     "name": "stdout",
     "output_type": "stream",
     "text": [
      "華邦電 (2344-TW) 今 (7) 日公布 10 月含新唐等子公司合併營收 44.91 億元，月增 4.07%，年增 21.06%，續創 2000 年 10 月來 17 年新高；累計前 10 月合併營收 388.77 億元，年增 10.99%。\n"
     ]
    }
   ],
   "source": [
    "print (news_summary)"
   ]
  }
 ],
 "metadata": {
  "kernelspec": {
   "display_name": "Python 3",
   "language": "python",
   "name": "python3"
  },
  "language_info": {
   "codemirror_mode": {
    "name": "ipython",
    "version": 3
   },
   "file_extension": ".py",
   "mimetype": "text/x-python",
   "name": "python",
   "nbconvert_exporter": "python",
   "pygments_lexer": "ipython3",
   "version": "3.6.1"
  }
 },
 "nbformat": 4,
 "nbformat_minor": 2
}
