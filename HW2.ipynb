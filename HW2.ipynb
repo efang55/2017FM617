{
 "cells": [
  {
   "cell_type": "code",
   "execution_count": 1,
   "metadata": {},
   "outputs": [],
   "source": [
    "#載入模組\n",
    "import os"
   ]
  },
  {
   "cell_type": "code",
   "execution_count": 2,
   "metadata": {
    "collapsed": true
   },
   "outputs": [],
   "source": [
    "#定義main()註解\n",
    "def main():\n",
    "    print ('Hello world!')"
   ]
  },
  {
   "cell_type": "code",
   "execution_count": 3,
   "metadata": {},
   "outputs": [
    {
     "name": "stdout",
     "output_type": "stream",
     "text": [
      "Hello world!\n"
     ]
    }
   ],
   "source": [
    "#執行後顯示Hello World!\n",
    "main()"
   ]
  },
  {
   "cell_type": "code",
   "execution_count": 20,
   "metadata": {},
   "outputs": [
    {
     "name": "stdout",
     "output_type": "stream",
     "text": [
      "This is Alice's greeting.\n",
      "This is Bob's greeting.\n"
     ]
    }
   ],
   "source": [
    "#在print()裡打出'字串'print出來，其中雙引號,單引號皆可。\n",
    "print(\"This is Alice's greeting.\")\n",
    "print('This is Bob\\'s greeting.')"
   ]
  },
  {
   "cell_type": "code",
   "execution_count": 34,
   "metadata": {},
   "outputs": [
    {
     "name": "stdout",
     "output_type": "stream",
     "text": [
      "5 plus 10 is equal to 15\n",
      "foo\n"
     ]
    },
    {
     "data": {
      "text/plain": [
       "15"
      ]
     },
     "execution_count": 34,
     "metadata": {},
     "output_type": "execute_result"
    }
   ],
   "source": [
    "#函數設定 \n",
    "foo(5,10)"
   ]
  },
  {
   "cell_type": "code",
   "execution_count": 18,
   "metadata": {},
   "outputs": [
    {
     "name": "stdout",
     "output_type": "stream",
     "text": [
      "==========\n"
     ]
    }
   ],
   "source": [
    "#將\"=\"符號弄成字串形式，並顯示10次\n",
    "print ('='*10)"
   ]
  },
  {
   "cell_type": "code",
   "execution_count": 16,
   "metadata": {},
   "outputs": [
    {
     "name": "stdout",
     "output_type": "stream",
     "text": [
      "Current working directory isC:\\Users\\fang\\Documents\\GitHub\\HW1\n"
     ]
    }
   ],
   "source": [
    "#正在運行的資料夾並且叫出函數os\n",
    "print ('Current working directory is'+os.getcwd())"
   ]
  },
  {
   "cell_type": "code",
   "execution_count": 15,
   "metadata": {},
   "outputs": [],
   "source": [
    "#變數舉例說明    \n",
    "counter = 0\n",
    "counter += 1"
   ]
  },
  {
   "cell_type": "code",
   "execution_count": 14,
   "metadata": {},
   "outputs": [
    {
     "name": "stdout",
     "output_type": "stream",
     "text": [
      "I like to eat : apples\n",
      "I like to eat : oranges\n",
      "I like to eat : cats\n"
     ]
    }
   ],
   "source": [
    "#先分別輸入食物名，再利用迴圈依序表示喜歡吃它\n",
    "food = ['apples','oranges','cats']\n",
    "for i in food:\n",
    "    print ('I like to eat : {}'.format(i)) "
   ]
  },
  {
   "cell_type": "code",
   "execution_count": 21,
   "metadata": {},
   "outputs": [
    {
     "name": "stdout",
     "output_type": "stream",
     "text": [
      "Count to ten:\n",
      "0\n",
      "1\n",
      "2\n",
      "3\n",
      "4\n",
      "5\n",
      "6\n",
      "7\n",
      "8\n",
      "9\n"
     ]
    }
   ],
   "source": [
    "#輸入一列數到10的文字後，利用迴圈跑出0~10\n",
    "print ('Count to ten:')\n",
    "for i in range(10):\n",
    "        print (i)"
   ]
  },
  {
   "cell_type": "code",
   "execution_count": 29,
   "metadata": {},
   "outputs": [
    {
     "data": {
      "text/plain": [
       "'A multi-line string, but can also be a multi-line comment.'"
      ]
     },
     "execution_count": 29,
     "metadata": {},
     "output_type": "execute_result"
    }
   ],
   "source": [
    "#定義foo(參數1,參數2)，且定義res=參數1+參數2\n",
    "def foo (paraml, secondparam):\n",
    "    res = paraml + secondparam\n",
    "    \n",
    "    print(('%s plus %s is equal to %s') % (paraml, secondparam, res))\n",
    "    \n",
    "    if res<50:\n",
    "        print ('foo')\n",
    "        \n",
    "    elif (res>=50) and ((paraml==42) or (secondparam==24)):\n",
    "        print ('bar')\n",
    "        \n",
    "    else:\n",
    "        print ('moo')\n",
    "        \n",
    "    return res # This is a one-line comment.\n",
    "'''A multi-line string, but can also be a multi-line comment.'''"
   ]
  },
  {
   "cell_type": "code",
   "execution_count": 33,
   "metadata": {},
   "outputs": [
    {
     "name": "stdout",
     "output_type": "stream",
     "text": [
      "24 plus 25 is equal to 49\n",
      "foo\n",
      "42 plus 20 is equal to 62\n",
      "bar\n",
      "55 plus 25 is equal to 80\n",
      "moo\n"
     ]
    },
    {
     "data": {
      "text/plain": [
       "80"
      ]
     },
     "execution_count": 33,
     "metadata": {},
     "output_type": "execute_result"
    }
   ],
   "source": [
    "#測試上面設定之函數，並依序跑出不同結果\n",
    "foo (paraml=24, secondparam=25)\n",
    "foo (paraml=42, secondparam=20)\n",
    "foo (paraml=55, secondparam=25)"
   ]
  },
  {
   "cell_type": "code",
   "execution_count": 27,
   "metadata": {},
   "outputs": [
    {
     "name": "stdout",
     "output_type": "stream",
     "text": [
      "Hello world!\n"
     ]
    }
   ],
   "source": [
    "#用 __name__ 就可以分辨我的程式是被 import 當成模組還是被直接執行的,以下直接被執行。\n",
    "if __name__=='__main__':\n",
    "    main()"
   ]
  }
 ],
 "metadata": {
  "kernelspec": {
   "display_name": "Python 3",
   "language": "python",
   "name": "python3"
  },
  "language_info": {
   "codemirror_mode": {
    "name": "ipython",
    "version": 3
   },
   "file_extension": ".py",
   "mimetype": "text/x-python",
   "name": "python",
   "nbconvert_exporter": "python",
   "pygments_lexer": "ipython3",
   "version": "3.6.1"
  }
 },
 "nbformat": 4,
 "nbformat_minor": 2
}
